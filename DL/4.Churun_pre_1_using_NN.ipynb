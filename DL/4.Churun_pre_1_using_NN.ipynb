{
  "nbformat": 4,
  "nbformat_minor": 0,
  "metadata": {
    "colab": {
      "provenance": []
    },
    "kernelspec": {
      "name": "python3",
      "display_name": "Python 3"
    },
    "language_info": {
      "name": "python"
    }
  },
  "cells": [
    {
      "cell_type": "code",
      "execution_count": null,
      "metadata": {
        "id": "FyBnjfEvtLwf"
      },
      "outputs": [],
      "source": [
        "import tensorflow as tf\n",
        "import numpy as np\n",
        "import matplotlib.pyplot as plt\n",
        "from tensorflow import keras\n",
        "import pandas as pd"
      ]
    },
    {
      "cell_type": "code",
      "source": [
        "df=pd.read_csv(\"/content/WA_Fn-UseC_-Telco-Customer-Churn.csv\")\n",
        "df.head(5)"
      ],
      "metadata": {
        "colab": {
          "base_uri": "https://localhost:8080/",
          "height": 321
        },
        "id": "sackT2kmwzVo",
        "outputId": "8db5792e-852a-4d45-bcee-9880961cd1f3"
      },
      "execution_count": null,
      "outputs": [
        {
          "output_type": "error",
          "ename": "FileNotFoundError",
          "evalue": "[Errno 2] No such file or directory: '/content/WA_Fn-UseC_-Telco-Customer-Churn.csv'",
          "traceback": [
            "\u001b[0;31m---------------------------------------------------------------------------\u001b[0m",
            "\u001b[0;31mFileNotFoundError\u001b[0m                         Traceback (most recent call last)",
            "\u001b[0;32m<ipython-input-2-5224153a675b>\u001b[0m in \u001b[0;36m<cell line: 1>\u001b[0;34m()\u001b[0m\n\u001b[0;32m----> 1\u001b[0;31m \u001b[0mdf\u001b[0m\u001b[0;34m=\u001b[0m\u001b[0mpd\u001b[0m\u001b[0;34m.\u001b[0m\u001b[0mread_csv\u001b[0m\u001b[0;34m(\u001b[0m\u001b[0;34m\"/content/WA_Fn-UseC_-Telco-Customer-Churn.csv\"\u001b[0m\u001b[0;34m)\u001b[0m\u001b[0;34m\u001b[0m\u001b[0;34m\u001b[0m\u001b[0m\n\u001b[0m\u001b[1;32m      2\u001b[0m \u001b[0mdf\u001b[0m\u001b[0;34m.\u001b[0m\u001b[0mhead\u001b[0m\u001b[0;34m(\u001b[0m\u001b[0;36m5\u001b[0m\u001b[0;34m)\u001b[0m\u001b[0;34m\u001b[0m\u001b[0;34m\u001b[0m\u001b[0m\n",
            "\u001b[0;32m/usr/local/lib/python3.10/dist-packages/pandas/io/parsers/readers.py\u001b[0m in \u001b[0;36mread_csv\u001b[0;34m(filepath_or_buffer, sep, delimiter, header, names, index_col, usecols, dtype, engine, converters, true_values, false_values, skipinitialspace, skiprows, skipfooter, nrows, na_values, keep_default_na, na_filter, verbose, skip_blank_lines, parse_dates, infer_datetime_format, keep_date_col, date_parser, date_format, dayfirst, cache_dates, iterator, chunksize, compression, thousands, decimal, lineterminator, quotechar, quoting, doublequote, escapechar, comment, encoding, encoding_errors, dialect, on_bad_lines, delim_whitespace, low_memory, memory_map, float_precision, storage_options, dtype_backend)\u001b[0m\n\u001b[1;32m   1024\u001b[0m     \u001b[0mkwds\u001b[0m\u001b[0;34m.\u001b[0m\u001b[0mupdate\u001b[0m\u001b[0;34m(\u001b[0m\u001b[0mkwds_defaults\u001b[0m\u001b[0;34m)\u001b[0m\u001b[0;34m\u001b[0m\u001b[0;34m\u001b[0m\u001b[0m\n\u001b[1;32m   1025\u001b[0m \u001b[0;34m\u001b[0m\u001b[0m\n\u001b[0;32m-> 1026\u001b[0;31m     \u001b[0;32mreturn\u001b[0m \u001b[0m_read\u001b[0m\u001b[0;34m(\u001b[0m\u001b[0mfilepath_or_buffer\u001b[0m\u001b[0;34m,\u001b[0m \u001b[0mkwds\u001b[0m\u001b[0;34m)\u001b[0m\u001b[0;34m\u001b[0m\u001b[0;34m\u001b[0m\u001b[0m\n\u001b[0m\u001b[1;32m   1027\u001b[0m \u001b[0;34m\u001b[0m\u001b[0m\n\u001b[1;32m   1028\u001b[0m \u001b[0;34m\u001b[0m\u001b[0m\n",
            "\u001b[0;32m/usr/local/lib/python3.10/dist-packages/pandas/io/parsers/readers.py\u001b[0m in \u001b[0;36m_read\u001b[0;34m(filepath_or_buffer, kwds)\u001b[0m\n\u001b[1;32m    618\u001b[0m \u001b[0;34m\u001b[0m\u001b[0m\n\u001b[1;32m    619\u001b[0m     \u001b[0;31m# Create the parser.\u001b[0m\u001b[0;34m\u001b[0m\u001b[0;34m\u001b[0m\u001b[0m\n\u001b[0;32m--> 620\u001b[0;31m     \u001b[0mparser\u001b[0m \u001b[0;34m=\u001b[0m \u001b[0mTextFileReader\u001b[0m\u001b[0;34m(\u001b[0m\u001b[0mfilepath_or_buffer\u001b[0m\u001b[0;34m,\u001b[0m \u001b[0;34m**\u001b[0m\u001b[0mkwds\u001b[0m\u001b[0;34m)\u001b[0m\u001b[0;34m\u001b[0m\u001b[0;34m\u001b[0m\u001b[0m\n\u001b[0m\u001b[1;32m    621\u001b[0m \u001b[0;34m\u001b[0m\u001b[0m\n\u001b[1;32m    622\u001b[0m     \u001b[0;32mif\u001b[0m \u001b[0mchunksize\u001b[0m \u001b[0;32mor\u001b[0m \u001b[0miterator\u001b[0m\u001b[0;34m:\u001b[0m\u001b[0;34m\u001b[0m\u001b[0;34m\u001b[0m\u001b[0m\n",
            "\u001b[0;32m/usr/local/lib/python3.10/dist-packages/pandas/io/parsers/readers.py\u001b[0m in \u001b[0;36m__init__\u001b[0;34m(self, f, engine, **kwds)\u001b[0m\n\u001b[1;32m   1618\u001b[0m \u001b[0;34m\u001b[0m\u001b[0m\n\u001b[1;32m   1619\u001b[0m         \u001b[0mself\u001b[0m\u001b[0;34m.\u001b[0m\u001b[0mhandles\u001b[0m\u001b[0;34m:\u001b[0m \u001b[0mIOHandles\u001b[0m \u001b[0;34m|\u001b[0m \u001b[0;32mNone\u001b[0m \u001b[0;34m=\u001b[0m \u001b[0;32mNone\u001b[0m\u001b[0;34m\u001b[0m\u001b[0;34m\u001b[0m\u001b[0m\n\u001b[0;32m-> 1620\u001b[0;31m         \u001b[0mself\u001b[0m\u001b[0;34m.\u001b[0m\u001b[0m_engine\u001b[0m \u001b[0;34m=\u001b[0m \u001b[0mself\u001b[0m\u001b[0;34m.\u001b[0m\u001b[0m_make_engine\u001b[0m\u001b[0;34m(\u001b[0m\u001b[0mf\u001b[0m\u001b[0;34m,\u001b[0m \u001b[0mself\u001b[0m\u001b[0;34m.\u001b[0m\u001b[0mengine\u001b[0m\u001b[0;34m)\u001b[0m\u001b[0;34m\u001b[0m\u001b[0;34m\u001b[0m\u001b[0m\n\u001b[0m\u001b[1;32m   1621\u001b[0m \u001b[0;34m\u001b[0m\u001b[0m\n\u001b[1;32m   1622\u001b[0m     \u001b[0;32mdef\u001b[0m \u001b[0mclose\u001b[0m\u001b[0;34m(\u001b[0m\u001b[0mself\u001b[0m\u001b[0;34m)\u001b[0m \u001b[0;34m->\u001b[0m \u001b[0;32mNone\u001b[0m\u001b[0;34m:\u001b[0m\u001b[0;34m\u001b[0m\u001b[0;34m\u001b[0m\u001b[0m\n",
            "\u001b[0;32m/usr/local/lib/python3.10/dist-packages/pandas/io/parsers/readers.py\u001b[0m in \u001b[0;36m_make_engine\u001b[0;34m(self, f, engine)\u001b[0m\n\u001b[1;32m   1878\u001b[0m                 \u001b[0;32mif\u001b[0m \u001b[0;34m\"b\"\u001b[0m \u001b[0;32mnot\u001b[0m \u001b[0;32min\u001b[0m \u001b[0mmode\u001b[0m\u001b[0;34m:\u001b[0m\u001b[0;34m\u001b[0m\u001b[0;34m\u001b[0m\u001b[0m\n\u001b[1;32m   1879\u001b[0m                     \u001b[0mmode\u001b[0m \u001b[0;34m+=\u001b[0m \u001b[0;34m\"b\"\u001b[0m\u001b[0;34m\u001b[0m\u001b[0;34m\u001b[0m\u001b[0m\n\u001b[0;32m-> 1880\u001b[0;31m             self.handles = get_handle(\n\u001b[0m\u001b[1;32m   1881\u001b[0m                 \u001b[0mf\u001b[0m\u001b[0;34m,\u001b[0m\u001b[0;34m\u001b[0m\u001b[0;34m\u001b[0m\u001b[0m\n\u001b[1;32m   1882\u001b[0m                 \u001b[0mmode\u001b[0m\u001b[0;34m,\u001b[0m\u001b[0;34m\u001b[0m\u001b[0;34m\u001b[0m\u001b[0m\n",
            "\u001b[0;32m/usr/local/lib/python3.10/dist-packages/pandas/io/common.py\u001b[0m in \u001b[0;36mget_handle\u001b[0;34m(path_or_buf, mode, encoding, compression, memory_map, is_text, errors, storage_options)\u001b[0m\n\u001b[1;32m    871\u001b[0m         \u001b[0;32mif\u001b[0m \u001b[0mioargs\u001b[0m\u001b[0;34m.\u001b[0m\u001b[0mencoding\u001b[0m \u001b[0;32mand\u001b[0m \u001b[0;34m\"b\"\u001b[0m \u001b[0;32mnot\u001b[0m \u001b[0;32min\u001b[0m \u001b[0mioargs\u001b[0m\u001b[0;34m.\u001b[0m\u001b[0mmode\u001b[0m\u001b[0;34m:\u001b[0m\u001b[0;34m\u001b[0m\u001b[0;34m\u001b[0m\u001b[0m\n\u001b[1;32m    872\u001b[0m             \u001b[0;31m# Encoding\u001b[0m\u001b[0;34m\u001b[0m\u001b[0;34m\u001b[0m\u001b[0m\n\u001b[0;32m--> 873\u001b[0;31m             handle = open(\n\u001b[0m\u001b[1;32m    874\u001b[0m                 \u001b[0mhandle\u001b[0m\u001b[0;34m,\u001b[0m\u001b[0;34m\u001b[0m\u001b[0;34m\u001b[0m\u001b[0m\n\u001b[1;32m    875\u001b[0m                 \u001b[0mioargs\u001b[0m\u001b[0;34m.\u001b[0m\u001b[0mmode\u001b[0m\u001b[0;34m,\u001b[0m\u001b[0;34m\u001b[0m\u001b[0;34m\u001b[0m\u001b[0m\n",
            "\u001b[0;31mFileNotFoundError\u001b[0m: [Errno 2] No such file or directory: '/content/WA_Fn-UseC_-Telco-Customer-Churn.csv'"
          ]
        }
      ]
    },
    {
      "cell_type": "code",
      "source": [
        "df.drop(\"customerID\",axis=\"columns\", inplace=True)"
      ],
      "metadata": {
        "id": "w295B0slw46l"
      },
      "execution_count": null,
      "outputs": []
    },
    {
      "cell_type": "code",
      "source": [
        "df.dtypes"
      ],
      "metadata": {
        "id": "R5B3ASfz0PpU"
      },
      "execution_count": null,
      "outputs": []
    },
    {
      "cell_type": "code",
      "source": [
        "pd.to_numeric(df.TotalCharges,errors=\"coerce\").isnull()"
      ],
      "metadata": {
        "id": "mC4iuHFl0Trz"
      },
      "execution_count": null,
      "outputs": []
    },
    {
      "cell_type": "code",
      "source": [
        "df=df[df.TotalCharges!=\" \"]\n",
        "df.shape"
      ],
      "metadata": {
        "id": "ZzwJZDwG1VKN"
      },
      "execution_count": null,
      "outputs": []
    },
    {
      "cell_type": "code",
      "source": [
        "df[\"TotalCharges\"]=pd.to_numeric(df.TotalCharges)"
      ],
      "metadata": {
        "id": "FhubF5Bz3_U8"
      },
      "execution_count": null,
      "outputs": []
    },
    {
      "cell_type": "code",
      "source": [
        "x=df[df.Churn==\"No\"].tenure\n",
        "y=df[df.Churn==\"Yes\"].tenure\n",
        "plt.xlabel(\"Tenure\")\n",
        "plt.xlabel(\"Customer Count\")\n",
        "plt.title(\"Customer Churn Analysis\")\n",
        "plt.hist([y,x],color=[\"green\",\"red\"],label=[\"Yes\",\"No\"])\n",
        "plt.legend()"
      ],
      "metadata": {
        "id": "egEzsJCN5Eqa"
      },
      "execution_count": null,
      "outputs": []
    },
    {
      "cell_type": "code",
      "source": [
        "x=df[df.Churn==\"No\"].MonthlyCharges\n",
        "y=df[df.Churn==\"Yes\"].MonthlyCharges\n",
        "plt.xlabel(\"MonthlyCharges\")\n",
        "plt.xlabel(\"Customer Count\")\n",
        "plt.title(\"Customer Churn Analysis\")\n",
        "plt.hist([y,x],color=[\"green\",\"red\"],label=[\"Yes\",\"No\"])\n",
        "plt.legend()  # here the data shows us the data imbalence\n",
        "# first i have predicted without consider ing the data imbalence\n",
        "#i have also done data ajustment"
      ],
      "metadata": {
        "id": "ndTK1Mli5OX2"
      },
      "execution_count": null,
      "outputs": []
    },
    {
      "cell_type": "code",
      "source": [
        "from sklearn.preprocessing import LabelEncoder\n",
        "le=LabelEncoder()"
      ],
      "metadata": {
        "id": "NmWBoVIo7sKM"
      },
      "execution_count": null,
      "outputs": []
    },
    {
      "cell_type": "code",
      "source": [
        "def uni(df):\n",
        "  for i in df:\n",
        "    print(f\"{i} : {df[i].unique()}\")"
      ],
      "metadata": {
        "id": "cxv4LoxN91r0"
      },
      "execution_count": null,
      "outputs": []
    },
    {
      "cell_type": "code",
      "source": [
        "uni(df)"
      ],
      "metadata": {
        "id": "Ae9oV755-ECh"
      },
      "execution_count": null,
      "outputs": []
    },
    {
      "cell_type": "code",
      "source": [
        "df.replace(\"No internet service\",\"No\",inplace=True)\n",
        "df.replace(\"No phone service\",\"No\",inplace=True)"
      ],
      "metadata": {
        "id": "SkrxEIGY-Ue1"
      },
      "execution_count": null,
      "outputs": []
    },
    {
      "cell_type": "code",
      "source": [
        "list=[\"gender\",\"Partner\",\"Dependents\",\"PhoneService\",\"MultipleLines\",\"InternetService\",\"OnlineSecurity\",\"OnlineBackup\",\"DeviceProtection\",\"TechSupport\",\"StreamingTV\",\"StreamingMovies\",\"Contract\",\"PaperlessBilling\",\"PaymentMethod\",\"Churn\"]\n",
        "for i in list:\n",
        "  df[i]=le.fit_transform(df[i])"
      ],
      "metadata": {
        "id": "Yfzu6OdV8mP5"
      },
      "execution_count": null,
      "outputs": []
    },
    {
      "cell_type": "code",
      "source": [
        "df.sample(5)"
      ],
      "metadata": {
        "id": "uV7sXXJZ80V5"
      },
      "execution_count": null,
      "outputs": []
    },
    {
      "cell_type": "code",
      "source": [
        "from sklearn.preprocessing import MinMaxScaler\n",
        "sc=MinMaxScaler()"
      ],
      "metadata": {
        "id": "6lbY9ZJ-83M9"
      },
      "execution_count": null,
      "outputs": []
    },
    {
      "cell_type": "code",
      "source": [
        "l2=[\"tenure\",\"MonthlyCharges\",\"TotalCharges\"]\n",
        "df[l2]=sc.fit_transform(df[l2])"
      ],
      "metadata": {
        "id": "5FucAB3V83IV"
      },
      "execution_count": null,
      "outputs": []
    },
    {
      "cell_type": "code",
      "source": [
        "df.sample(5)"
      ],
      "metadata": {
        "id": "X4q3iyLy829f"
      },
      "execution_count": null,
      "outputs": []
    },
    {
      "cell_type": "code",
      "source": [
        "from sklearn.model_selection import train_test_split as tts\n",
        "x_train,x_test,y_train,y_test=tts(df.drop(\"Churn\",axis=\"columns\"),df.Churn,test_size=0.2,random_state=5)"
      ],
      "metadata": {
        "id": "bsfoVsIp824r"
      },
      "execution_count": null,
      "outputs": []
    },
    {
      "cell_type": "code",
      "source": [
        "print(x_train.shape)\n",
        "print(x_test.shape)\n",
        "print(y_train.shape)\n",
        "print(y_test.shape )"
      ],
      "metadata": {
        "id": "4FxOX8WuBY9L"
      },
      "execution_count": null,
      "outputs": []
    },
    {
      "cell_type": "code",
      "source": [
        "model=keras.Sequential([\n",
        "    keras.layers.Dense(19,input_shape=(19,),activation=\"relu\"),\n",
        "    keras.layers.Dense(10,activation=\"relu\"),\n",
        "    keras.layers.Dense(1,activation=\"sigmoid\")\n",
        "])\n",
        "\n",
        "model.compile(optimizer=\"adam\",\n",
        "              loss=\"binary_crossentropy\",\n",
        "              metrics=[\"accuracy\"])\n",
        "\n",
        "model.fit(x_train,y_train,epochs=100)"
      ],
      "metadata": {
        "collapsed": true,
        "id": "NrzJ-DojBHLP"
      },
      "execution_count": null,
      "outputs": []
    },
    {
      "cell_type": "code",
      "source": [
        "y_pre=model.predict(x_test)\n",
        "y_pre[:5]"
      ],
      "metadata": {
        "id": "OGEnbQ7-BHIj"
      },
      "execution_count": null,
      "outputs": []
    },
    {
      "cell_type": "code",
      "source": [
        "y_pred=[]\n",
        "for i in y_pre:\n",
        "  if i>0.5:\n",
        "    y_pred.append(1)\n",
        "  else:\n",
        "    y_pred.append(0)"
      ],
      "metadata": {
        "id": "zeKKWxOjBHFu"
      },
      "execution_count": null,
      "outputs": []
    },
    {
      "cell_type": "code",
      "source": [
        "y_pred[:5]"
      ],
      "metadata": {
        "id": "P3JGmnHaE0nA"
      },
      "execution_count": null,
      "outputs": []
    },
    {
      "cell_type": "code",
      "source": [
        "np.array(y_test[:5])"
      ],
      "metadata": {
        "id": "ajGR2TZYE0j2"
      },
      "execution_count": null,
      "outputs": []
    },
    {
      "cell_type": "code",
      "source": [
        "model.evaluate(x_test,y_test)"
      ],
      "metadata": {
        "id": "pTrIOwDlE0g_"
      },
      "execution_count": null,
      "outputs": []
    },
    {
      "cell_type": "code",
      "source": [
        "import seaborn as sns\n",
        "cm=tf.math.confusion_matrix(labels=y_test,predictions=y_pred)\n",
        "\n",
        "plt.figure(figsize=(10,7))\n",
        "sns.heatmap(cm,annot=True,fmt=\"d\")\n",
        "plt.xlabel(\"Predicted\")\n",
        "plt.ylabel(\"Truth\")"
      ],
      "metadata": {
        "id": "682rEFJeFIH6"
      },
      "execution_count": null,
      "outputs": []
    },
    {
      "cell_type": "code",
      "source": [
        "from sklearn.metrics import classification_report,confusion_matrix\n",
        "print(classification_report(y_test,y_pred))"
      ],
      "metadata": {
        "id": "I9r9C8ICHvJ1"
      },
      "execution_count": null,
      "outputs": []
    },
    {
      "cell_type": "code",
      "source": [
        "def ANN(x_train,y_train,x_test,y_test,loss,weight):\n",
        "  model=keras.Sequential([\n",
        "    keras.layers.Dense(19,input_shape=(19,),activation=\"relu\"),\n",
        "    keras.layers.Dense(10,activation=\"relu\"),\n",
        "    keras.layers.Dense(1,activation=\"sigmoid\")\n",
        "  ])\n",
        "\n",
        "  model.compile(optimizer=\"adam\",\n",
        "                loss=loss,\n",
        "                metrics=[\"accuracy\"])\n",
        "  if(weight==-1):\n",
        "    model.fit(x_train,y_train,epochs=100)\n",
        "  else:\n",
        "    model.fit(x_train,y_train,epochs=100,class_weight=weight)\n",
        "  print(\"\\n\\n Evcaluation result:\\n\")\n",
        "  print(model.evaluate(x_test,y_test))\n",
        "  y_preds=model.predict(x_test)\n",
        "  y_preds=np.round(y_preds)\n",
        "  print(\"\\nclassification report: \",classification_report(y_test,y_preds))\n",
        "  return y_preds"
      ],
      "metadata": {
        "id": "kGtEh_C6TrBX"
      },
      "execution_count": null,
      "outputs": []
    },
    {
      "cell_type": "code",
      "source": [
        "#ANN(x_train,y_train,x_test,y_test,\"binary_crossentropy\",-1)"
      ],
      "metadata": {
        "id": "JlEegV_UV-7x"
      },
      "execution_count": null,
      "outputs": []
    },
    {
      "cell_type": "markdown",
      "source": [
        "Mitigating Skewdness of Data  Under sampling\n"
      ],
      "metadata": {
        "id": "QzcH3Ty_dw8X"
      }
    },
    {
      "cell_type": "code",
      "source": [
        "#class count\n",
        "count_0,count_1=df.Churn.value_counts()\n",
        "df_0=df[df.Churn==0]\n",
        "df_1=df[df.Churn==1]"
      ],
      "metadata": {
        "id": "RaQ3N6vkd2CQ"
      },
      "execution_count": null,
      "outputs": []
    },
    {
      "cell_type": "code",
      "source": [
        "df_0.shape,df_1.shape"
      ],
      "metadata": {
        "id": "G6VDA9ereUm8"
      },
      "execution_count": null,
      "outputs": []
    },
    {
      "cell_type": "code",
      "source": [
        "df_0_under=df_0.sample(count_1)\n",
        "df_train_under=pd.concat([df_0_under,df_1],axis=0)\n",
        "df_train_under.Churn.value_counts()"
      ],
      "metadata": {
        "id": "nkqoHVq4TcU7"
      },
      "execution_count": null,
      "outputs": []
    },
    {
      "cell_type": "code",
      "source": [
        "x=df_train_under.drop(\"Churn\",axis=\"columns\")\n",
        "y=df_train_under.Churn\n",
        "x_tra,x_tes,y_tra,y_tes=tts(x,y,test_size=0.001,random_state=15,stratify=y)"
      ],
      "metadata": {
        "id": "llHXNqe6jzeF"
      },
      "execution_count": null,
      "outputs": []
    },
    {
      "cell_type": "code",
      "source": [
        "model_undersample=keras.Sequential([\n",
        "    keras.layers.Dense(19,input_shape=(19,),activation=\"relu\"),\n",
        "    keras.layers.Dense(10,activation=\"relu\"),\n",
        "    keras.layers.Dense(1,activation=\"sigmoid\")\n",
        "])\n",
        "\n",
        "model_undersample.compile(optimizer=\"adam\",\n",
        "              loss=\"binary_crossentropy\",\n",
        "              metrics=[\"accuracy\"])\n",
        "\n",
        "model_undersample.fit(x_tra,y_tra,epochs=100)    # you can call the ANN instead of rewriting the steps again"
      ],
      "metadata": {
        "collapsed": true,
        "id": "GHIrWV6FkWDY"
      },
      "execution_count": null,
      "outputs": []
    },
    {
      "cell_type": "code",
      "source": [
        "y_pr=model_undersample(x_test)\n",
        "y_pr=np.round(y_pr).flatten()"
      ],
      "metadata": {
        "id": "pENhi-4xltDs"
      },
      "execution_count": null,
      "outputs": []
    },
    {
      "cell_type": "code",
      "source": [
        "print(classification_report(y_test,y_pr))# this has improved a bit but i dont know this is right or not"
      ],
      "metadata": {
        "id": "auGaauCpmEr7"
      },
      "execution_count": null,
      "outputs": []
    },
    {
      "cell_type": "markdown",
      "source": [
        "2.Over Sampling"
      ],
      "metadata": {
        "id": "lzeeUGLyneGc"
      }
    },
    {
      "cell_type": "code",
      "source": [
        "df_1_over=df_1.sample(count_0,replace=True)\n",
        "df_1_over.shape\n",
        "df_over=pd.concat([df_1_over,df_0],axis=0)"
      ],
      "metadata": {
        "id": "fqK8Gsjpne44"
      },
      "execution_count": null,
      "outputs": []
    },
    {
      "cell_type": "code",
      "source": [
        "df_over.shape"
      ],
      "metadata": {
        "id": "V93DOHLjNtJP"
      },
      "execution_count": null,
      "outputs": []
    },
    {
      "cell_type": "code",
      "source": [
        "x_tr,_,y_tr,__=tts(df_over.drop(\"Churn\",axis=\"columns\"),df_over.Churn,test_size=0.0001,stratify=df_over.Churn)\n",
        "x_tr.shape"
      ],
      "metadata": {
        "id": "0b8gMk1nne19"
      },
      "execution_count": null,
      "outputs": []
    },
    {
      "cell_type": "code",
      "source": [
        "y_p=ANN(x_tr,y_tr,x_test,y_test,\"binary_crossentropy\",-1)"
      ],
      "metadata": {
        "collapsed": true,
        "id": "hGGh5YSEKbuz"
      },
      "execution_count": null,
      "outputs": []
    },
    {
      "cell_type": "markdown",
      "source": [
        "3.SMOTE Technique\n"
      ],
      "metadata": {
        "id": "bSiCSWGZneyK"
      }
    },
    {
      "cell_type": "code",
      "source": [
        "from imblearn.over_sampling import SMOTE\n",
        "smote=SMOTE(sampling_strategy=\"minority\")\n",
        "x_sm,y_sm=smote.fit_resample(x_t,y_t)\n",
        "y_sm.value_counts()"
      ],
      "metadata": {
        "id": "jB8eIrY4KboS"
      },
      "execution_count": null,
      "outputs": []
    },
    {
      "cell_type": "code",
      "source": [
        "x_t,_,y_t,__=tts(df.drop(\"Churn\",axis=\"columns\"),df.Churn,test_size=0.2,random_state=15,stratify=df.Churn)\n",
        "x_t.shape"
      ],
      "metadata": {
        "id": "wXxQxy4mKcPW"
      },
      "execution_count": null,
      "outputs": []
    },
    {
      "cell_type": "code",
      "source": [
        "y_p_smote=ANN(x_sm,y_sm,x_test,y_test,\"binary_crossentropy\",-1)"
      ],
      "metadata": {
        "collapsed": true,
        "id": "e9cP5nyaKcLk"
      },
      "execution_count": null,
      "outputs": []
    },
    {
      "cell_type": "markdown",
      "source": [
        "4.Ensemble with undersampling\n"
      ],
      "metadata": {
        "id": "6lMn4SOTKcF4"
      }
    },
    {
      "cell_type": "code",
      "source": [
        "df.Churn.value_counts()"
      ],
      "metadata": {
        "id": "s2TfTLZBXjKS"
      },
      "execution_count": null,
      "outputs": []
    },
    {
      "cell_type": "code",
      "source": [
        "x_tt,_,y_tt,__=tts(df.drop(\"Churn\",axis=\"columns\"),df.Churn,test_size=0.2,random_state=15,stratify=df.Churn)\n",
        "x_t.shape"
      ],
      "metadata": {
        "id": "QELkdKRzkP2d"
      },
      "execution_count": null,
      "outputs": []
    },
    {
      "cell_type": "code",
      "source": [
        "df3=x_tt.copy()\n",
        "df3[\"Churn\"]=y_tt"
      ],
      "metadata": {
        "id": "HKhC0SIWkXpE"
      },
      "execution_count": null,
      "outputs": []
    },
    {
      "cell_type": "code",
      "source": [
        "df3_0=df3[df3.Churn==0]\n",
        "df3_1=df3[df3.Churn==1]"
      ],
      "metadata": {
        "id": "jrxRJorqXkZT"
      },
      "execution_count": null,
      "outputs": []
    },
    {
      "cell_type": "code",
      "source": [
        "def get_train_batch(df_max,df_min,st,end):\n",
        "   df_tt=pd.concat([df_max[st:end],df_min],axis=0)\n",
        "   x_trainn=df_tt.drop(\"Churn\",axis=\"columns\")\n",
        "   y_trainn=df_tt.Churun\n",
        "   return x_trainn,y_trainn"
      ],
      "metadata": {
        "id": "MUBI-WXeXkWu"
      },
      "execution_count": null,
      "outputs": []
    },
    {
      "cell_type": "code",
      "source": [
        "x_triann,y_trainn=get_train_batch(df3_0,df3_1,0,1869)\n",
        "y_pree1=ANN(x_trainn,y_trainn,x_test,y_test,\"binary_crossentropy\",-1)"
      ],
      "metadata": {
        "id": "7AUtB7hRXkTK"
      },
      "execution_count": null,
      "outputs": []
    },
    {
      "cell_type": "code",
      "source": [],
      "metadata": {
        "id": "wzRcwvhQXkP8"
      },
      "execution_count": null,
      "outputs": []
    },
    {
      "cell_type": "code",
      "source": [],
      "metadata": {
        "id": "xIfdr4raXkMJ"
      },
      "execution_count": null,
      "outputs": []
    }
  ]
}