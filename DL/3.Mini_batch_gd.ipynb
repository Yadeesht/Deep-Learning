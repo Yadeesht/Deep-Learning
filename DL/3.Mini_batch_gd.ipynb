{
 "cells": [
  {
   "cell_type": "code",
   "execution_count": 74,
   "id": "c7712d62",
   "metadata": {},
   "outputs": [],
   "source": [
    "import numpy as np\n",
    "import pandas as pd\n",
    "import matplotlib.pyplot as plt\n",
    "import math\n",
    "%matplotlib inline"
   ]
  },
  {
   "cell_type": "code",
   "execution_count": 75,
   "id": "8ecc0ab7",
   "metadata": {},
   "outputs": [
    {
     "data": {
      "text/html": [
       "<div>\n",
       "<style scoped>\n",
       "    .dataframe tbody tr th:only-of-type {\n",
       "        vertical-align: middle;\n",
       "    }\n",
       "\n",
       "    .dataframe tbody tr th {\n",
       "        vertical-align: top;\n",
       "    }\n",
       "\n",
       "    .dataframe thead th {\n",
       "        text-align: right;\n",
       "    }\n",
       "</style>\n",
       "<table border=\"1\" class=\"dataframe\">\n",
       "  <thead>\n",
       "    <tr style=\"text-align: right;\">\n",
       "      <th></th>\n",
       "      <th>area</th>\n",
       "      <th>bedrooms</th>\n",
       "      <th>price</th>\n",
       "    </tr>\n",
       "  </thead>\n",
       "  <tbody>\n",
       "    <tr>\n",
       "      <th>7</th>\n",
       "      <td>3300</td>\n",
       "      <td>4</td>\n",
       "      <td>155.00</td>\n",
       "    </tr>\n",
       "    <tr>\n",
       "      <th>0</th>\n",
       "      <td>1056</td>\n",
       "      <td>2</td>\n",
       "      <td>39.07</td>\n",
       "    </tr>\n",
       "    <tr>\n",
       "      <th>5</th>\n",
       "      <td>1170</td>\n",
       "      <td>2</td>\n",
       "      <td>38.00</td>\n",
       "    </tr>\n",
       "    <tr>\n",
       "      <th>2</th>\n",
       "      <td>1440</td>\n",
       "      <td>3</td>\n",
       "      <td>62.00</td>\n",
       "    </tr>\n",
       "    <tr>\n",
       "      <th>13</th>\n",
       "      <td>1100</td>\n",
       "      <td>2</td>\n",
       "      <td>40.00</td>\n",
       "    </tr>\n",
       "  </tbody>\n",
       "</table>\n",
       "</div>"
      ],
      "text/plain": [
       "    area  bedrooms   price\n",
       "7   3300         4  155.00\n",
       "0   1056         2   39.07\n",
       "5   1170         2   38.00\n",
       "2   1440         3   62.00\n",
       "13  1100         2   40.00"
      ]
     },
     "execution_count": 75,
     "metadata": {},
     "output_type": "execute_result"
    }
   ],
   "source": [
    "df=pd.read_csv(r\"E:\\AI&ML\\ml datasets\\homeprices_banglore.csv\") \n",
    "df.sample(5)"
   ]
  },
  {
   "cell_type": "code",
   "execution_count": 76,
   "id": "23723885",
   "metadata": {},
   "outputs": [],
   "source": [
    "from sklearn.preprocessing import MinMaxScaler as mms\n",
    "sx=mms()\n",
    "sy=mms()"
   ]
  },
  {
   "cell_type": "code",
   "execution_count": 77,
   "id": "4afcd0cc",
   "metadata": {},
   "outputs": [],
   "source": [
    "x_s=sx.fit_transform(df.drop(\"price\",axis=\"columns\"))\n",
    "y_s=sy.fit_transform(df[\"price\"].values.reshape(df.shape[0],1))"
   ]
  },
  {
   "cell_type": "code",
   "execution_count": 87,
   "id": "f27b71c2",
   "metadata": {},
   "outputs": [],
   "source": [
    "def minibgd(x, y, epochs, rate=0.01, batch_size=32):\n",
    "    w = np.ones(x.shape[1])\n",
    "    b = 0\n",
    "    total_s = x.shape[0]\n",
    "    \n",
    "    cost_list = []\n",
    "    epochs_list = []\n",
    "    \n",
    "    for i in range(epochs):\n",
    " \n",
    "        indices = np.arange(total_s)\n",
    "        np.random.shuffle(indices)\n",
    "        \n",
    "        # Mini-batch processing\n",
    "        for start in range(0, total_s, batch_size):\n",
    "            end = min(start + batch_size, total_s)\n",
    "            batch_indices = indices[start:end]\n",
    "            x_batch = x[batch_indices]\n",
    "            y_batch = y[batch_indices]\n",
    "            \n",
    "            y_pre = np.dot(x_batch, w) + b\n",
    "            \n",
    "            # Compute gradients\n",
    "            w_g = -(2 / batch_size) * (x_batch.T.dot(y_batch - y_pre))\n",
    "            b_g = -(2 / batch_size) * np.sum(y_batch - y_pre)\n",
    "            \n",
    "            # Update weights\n",
    "            w -= rate * w_g\n",
    "            b -= rate * b_g\n",
    "        \n",
    "        # Compute cost for this epoch\n",
    "        y_pre_all = np.dot(x, w) + b\n",
    "        cost = np.mean(np.square(y - y_pre_all))\n",
    "        \n",
    "        if i % 10 == 0:\n",
    "            cost_list.append(cost)\n",
    "            epochs_list.append(i)\n",
    "    \n",
    "    return w, b, cost, cost_list, epochs_list"
   ]
  },
  {
   "cell_type": "code",
   "execution_count": 92,
   "id": "428f4dc3",
   "metadata": {},
   "outputs": [
    {
     "data": {
      "text/plain": [
       "(array([0.72447789, 0.69437658]), -0.24757928355063757, 0.0064703642466386975)"
      ]
     },
     "execution_count": 92,
     "metadata": {},
     "output_type": "execute_result"
    }
   ],
   "source": [
    "w,b,cost,cost_list,epochs_list=mini_batch_gradient_descent(x_s,y_s.reshape(y_s.shape[0],),100)\n",
    "w,b,cost"
   ]
  },
  {
   "cell_type": "code",
   "execution_count": 94,
   "id": "a4bf6f13",
   "metadata": {},
   "outputs": [],
   "source": [
    "def sigmoid(z):\n",
    "    return (1/(1+math.exp(z)))"
   ]
  },
  {
   "cell_type": "code",
   "execution_count": 100,
   "id": "d27bfb6b",
   "metadata": {},
   "outputs": [],
   "source": [
    "def predict(area,bedrooms,w,b):\n",
    "    x_s=sx.transform([[area,bedrooms]])[0]\n",
    "    s_p=x_s[0]*w[0]+x_s[1]*w[1]+b\n",
    "    return sy.inverse_transform([[s_p]])[0][0]"
   ]
  },
  {
   "cell_type": "code",
   "execution_count": 101,
   "id": "cdebaee0",
   "metadata": {},
   "outputs": [
    {
     "name": "stderr",
     "output_type": "stream",
     "text": [
      "C:\\Users\\yadee\\anaconda3\\Lib\\site-packages\\sklearn\\base.py:464: UserWarning: X does not have valid feature names, but MinMaxScaler was fitted with feature names\n",
      "  warnings.warn(\n"
     ]
    },
    {
     "ename": "NameError",
     "evalue": "name 's_P' is not defined",
     "output_type": "error",
     "traceback": [
      "\u001b[1;31m---------------------------------------------------------------------------\u001b[0m",
      "\u001b[1;31mNameError\u001b[0m                                 Traceback (most recent call last)",
      "Cell \u001b[1;32mIn[101], line 1\u001b[0m\n\u001b[1;32m----> 1\u001b[0m predict(\u001b[38;5;241m2600\u001b[39m,\u001b[38;5;241m4\u001b[39m,w,b)\n",
      "Cell \u001b[1;32mIn[100], line 4\u001b[0m, in \u001b[0;36mpredict\u001b[1;34m(area, bedrooms, w, b)\u001b[0m\n\u001b[0;32m      2\u001b[0m x_s\u001b[38;5;241m=\u001b[39msx\u001b[38;5;241m.\u001b[39mtransform([[area,bedrooms]])[\u001b[38;5;241m0\u001b[39m]\n\u001b[0;32m      3\u001b[0m s_p\u001b[38;5;241m=\u001b[39mx_s[\u001b[38;5;241m0\u001b[39m]\u001b[38;5;241m*\u001b[39mw[\u001b[38;5;241m0\u001b[39m]\u001b[38;5;241m+\u001b[39mx_s[\u001b[38;5;241m1\u001b[39m]\u001b[38;5;241m*\u001b[39mw[\u001b[38;5;241m1\u001b[39m]\u001b[38;5;241m+\u001b[39mb\n\u001b[1;32m----> 4\u001b[0m \u001b[38;5;28;01mreturn\u001b[39;00m sy\u001b[38;5;241m.\u001b[39minverse_transform([[s_P]])[\u001b[38;5;241m0\u001b[39m][\u001b[38;5;241m0\u001b[39m]\n",
      "\u001b[1;31mNameError\u001b[0m: name 's_P' is not defined"
     ]
    }
   ],
   "source": [
    "predict(2600,4,w,b)"
   ]
  },
  {
   "cell_type": "code",
   "execution_count": null,
   "id": "c6fc00f1",
   "metadata": {},
   "outputs": [],
   "source": []
  }
 ],
 "metadata": {
  "kernelspec": {
   "display_name": "Python 3 (ipykernel)",
   "language": "python",
   "name": "python3"
  },
  "language_info": {
   "codemirror_mode": {
    "name": "ipython",
    "version": 3
   },
   "file_extension": ".py",
   "mimetype": "text/x-python",
   "name": "python",
   "nbconvert_exporter": "python",
   "pygments_lexer": "ipython3",
   "version": "3.11.5"
  }
 },
 "nbformat": 4,
 "nbformat_minor": 5
}
